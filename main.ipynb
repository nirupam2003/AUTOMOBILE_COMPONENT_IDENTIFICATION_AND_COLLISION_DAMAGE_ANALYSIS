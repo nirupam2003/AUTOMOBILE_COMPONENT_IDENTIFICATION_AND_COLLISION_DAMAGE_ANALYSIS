{
 "cells": [
  {
   "cell_type": "code",
   "execution_count": 24,
   "metadata": {},
   "outputs": [],
   "source": [
    "from ultralytics import YOLO"
   ]
  },
  {
   "cell_type": "code",
   "execution_count": 25,
   "metadata": {},
   "outputs": [],
   "source": [
    "model=YOLO('C:\\\\Users\\\\HP\\\\Downloads\\\\type of damage.pt')\n"
   ]
  },
  {
   "cell_type": "code",
   "execution_count": 4,
   "metadata": {},
   "outputs": [],
   "source": [
    "model1=YOLO(\"C:\\\\Users\\\\HP\\\\Downloads\\\\parts.pt\")"
   ]
  },
  {
   "cell_type": "code",
   "execution_count": 27,
   "metadata": {},
   "outputs": [
    {
     "name": "stderr",
     "output_type": "stream",
     "text": [
      "\n",
      "WARNING  NMS time limit 0.550s exceeded\n",
      "image 1/1 E:\\File1\\img\\Car damages 11.png: 480x640 3 windows, 2 doors, 1 hood, 1 bumper, 1 mirror, 1 light, 1 wheel, 14782.1ms\n",
      "Speed: 4289.8ms preprocess, 14782.1ms inference, 1317.6ms postprocess per image at shape (1, 3, 480, 640)\n",
      "Results saved to \u001b[1mruns\\detect\\predict7\u001b[0m\n"
     ]
    },
    {
     "name": "stdout",
     "output_type": "stream",
     "text": [
      "[ultralytics.engine.results.Results object with attributes:\n",
      "\n",
      "boxes: ultralytics.engine.results.Boxes object\n",
      "keypoints: None\n",
      "keys: ['boxes']\n",
      "masks: None\n",
      "names: {0: 'window', 1: 'trunk', 2: 'door', 3: 'grille', 4: 'hood', 5: 'bumper', 6: 'mirror', 7: 'light', 8: 'damage', 9: 'wheel'}\n",
      "orig_img: array([[[ 70, 103, 136],\n",
      "        [ 71, 103, 135],\n",
      "        [ 73, 100, 131],\n",
      "        ...,\n",
      "        [103,  69,  58],\n",
      "        [103,  68,  58],\n",
      "        [105,  69,  59]],\n",
      "\n",
      "       [[ 69,  88, 112],\n",
      "        [ 73,  91, 115],\n",
      "        [ 73,  88, 111],\n",
      "        ...,\n",
      "        [108,  74,  63],\n",
      "        [106,  71,  61],\n",
      "        [106,  71,  61]],\n",
      "\n",
      "       [[ 82,  91, 109],\n",
      "        [ 86,  94, 112],\n",
      "        [ 86,  91, 109],\n",
      "        ...,\n",
      "        [106,  72,  61],\n",
      "        [105,  70,  60],\n",
      "        [104,  69,  59]],\n",
      "\n",
      "       ...,\n",
      "\n",
      "       [[ 87,  88,  92],\n",
      "        [ 89,  90,  94],\n",
      "        [ 90,  91,  95],\n",
      "        ...,\n",
      "        [ 90,  92, 102],\n",
      "        [ 89,  91, 103],\n",
      "        [ 88,  88, 104]],\n",
      "\n",
      "       [[ 90,  91,  95],\n",
      "        [ 91,  92,  96],\n",
      "        [ 88,  89,  93],\n",
      "        ...,\n",
      "        [ 86,  88,  98],\n",
      "        [ 86,  88,  99],\n",
      "        [ 88,  88, 104]],\n",
      "\n",
      "       [[ 85,  86,  90],\n",
      "        [ 87,  88,  92],\n",
      "        [ 83,  84,  88],\n",
      "        ...,\n",
      "        [ 87,  89, 100],\n",
      "        [ 79,  81,  92],\n",
      "        [ 84,  84, 100]]], dtype=uint8)\n",
      "orig_shape: (447, 628)\n",
      "path: 'E:\\\\File1\\\\img\\\\Car damages 11.png'\n",
      "probs: None\n",
      "save_dir: 'runs\\\\detect\\\\predict7'\n",
      "speed: {'preprocess': 4289.825916290283, 'inference': 14782.117366790771, 'postprocess': 1317.6064491271973}]\n"
     ]
    }
   ],
   "source": [
    "result1=model1(\"E:\\\\File1\\\\img\\\\Car damages 11.png\",save=True,classes=[0,1,2,3,4,5,6,7,9])\n",
    "print(result1)"
   ]
  },
  {
   "cell_type": "code",
   "execution_count": 28,
   "metadata": {},
   "outputs": [
    {
     "name": "stdout",
     "output_type": "stream",
     "text": [
      "door\n",
      "wheel\n",
      "window\n",
      "bumper\n",
      "window\n",
      "door\n",
      "mirror\n",
      "light\n",
      "hood\n",
      "window\n"
     ]
    }
   ],
   "source": [
    "names=model1.names\n",
    "i=result1[0]\n",
    "for j in i.boxes.cls:\n",
    "        print(names[int(j)])\n"
   ]
  },
  {
   "cell_type": "code",
   "execution_count": 30,
   "metadata": {},
   "outputs": [
    {
     "name": "stderr",
     "output_type": "stream",
     "text": [
      "\n",
      "image 1/1 E:\\cracked\\imgages\\Car damages 696.png: 480x640 3 damages, 419.0ms\n",
      "Speed: 15.0ms preprocess, 419.0ms inference, 2.0ms postprocess per image at shape (1, 3, 480, 640)\n",
      "Results saved to \u001b[1mruns\\detect\\predict7\u001b[0m\n"
     ]
    }
   ],
   "source": [
    "result2=model1(\"E:\\\\File1\\\\img\\\\Car damages 11.png\",save=True,classes=[8])"
   ]
  },
  {
   "cell_type": "code",
   "execution_count": 31,
   "metadata": {},
   "outputs": [
    {
     "name": "stderr",
     "output_type": "stream",
     "text": [
      "\n",
      "image 1/1 E:\\File1\\img\\Car damages 11.png: 480x640 1 dent, 8466.8ms\n",
      "Speed: 73.9ms preprocess, 8466.8ms inference, 10.0ms postprocess per image at shape (1, 3, 480, 640)\n",
      "Results saved to \u001b[1mruns\\detect\\predict9\u001b[0m\n"
     ]
    },
    {
     "name": "stdout",
     "output_type": "stream",
     "text": [
      "[ultralytics.engine.results.Results object with attributes:\n",
      "\n",
      "boxes: ultralytics.engine.results.Boxes object\n",
      "keypoints: None\n",
      "keys: ['boxes']\n",
      "masks: None\n",
      "names: {0: 'broken', 1: 'scratch', 2: 'Cracked', 3: 'dent', 4: 'corrossion'}\n",
      "orig_img: array([[[ 70, 103, 136],\n",
      "        [ 71, 103, 135],\n",
      "        [ 73, 100, 131],\n",
      "        ...,\n",
      "        [103,  69,  58],\n",
      "        [103,  68,  58],\n",
      "        [105,  69,  59]],\n",
      "\n",
      "       [[ 69,  88, 112],\n",
      "        [ 73,  91, 115],\n",
      "        [ 73,  88, 111],\n",
      "        ...,\n",
      "        [108,  74,  63],\n",
      "        [106,  71,  61],\n",
      "        [106,  71,  61]],\n",
      "\n",
      "       [[ 82,  91, 109],\n",
      "        [ 86,  94, 112],\n",
      "        [ 86,  91, 109],\n",
      "        ...,\n",
      "        [106,  72,  61],\n",
      "        [105,  70,  60],\n",
      "        [104,  69,  59]],\n",
      "\n",
      "       ...,\n",
      "\n",
      "       [[ 87,  88,  92],\n",
      "        [ 89,  90,  94],\n",
      "        [ 90,  91,  95],\n",
      "        ...,\n",
      "        [ 90,  92, 102],\n",
      "        [ 89,  91, 103],\n",
      "        [ 88,  88, 104]],\n",
      "\n",
      "       [[ 90,  91,  95],\n",
      "        [ 91,  92,  96],\n",
      "        [ 88,  89,  93],\n",
      "        ...,\n",
      "        [ 86,  88,  98],\n",
      "        [ 86,  88,  99],\n",
      "        [ 88,  88, 104]],\n",
      "\n",
      "       [[ 85,  86,  90],\n",
      "        [ 87,  88,  92],\n",
      "        [ 83,  84,  88],\n",
      "        ...,\n",
      "        [ 87,  89, 100],\n",
      "        [ 79,  81,  92],\n",
      "        [ 84,  84, 100]]], dtype=uint8)\n",
      "orig_shape: (447, 628)\n",
      "path: 'E:\\\\File1\\\\img\\\\Car damages 11.png'\n",
      "probs: None\n",
      "save_dir: 'runs\\\\detect\\\\predict9'\n",
      "speed: {'preprocess': 73.89664649963379, 'inference': 8466.832876205444, 'postprocess': 9.988069534301758}]\n"
     ]
    }
   ],
   "source": [
    "result=model(\"E:\\\\File1\\\\img\\\\Car damages 11.png\",save=True)\n",
    "print(result)"
   ]
  },
  {
   "cell_type": "code",
   "execution_count": 42,
   "metadata": {},
   "outputs": [
    {
     "name": "stdout",
     "output_type": "stream",
     "text": [
      "{0: 'broken', 1: 'scratch', 2: 'Cracked', 3: 'dent', 4: 'corrossion'}\n",
      "dent\n",
      "['dent']\n",
      "===\n",
      "door\n",
      "wheel\n",
      "window\n",
      "bumper\n",
      "window\n",
      "door\n",
      "mirror\n",
      "light\n",
      "hood\n",
      "window\n",
      "['door', 'wheel', 'window', 'bumper', 'window', 'door', 'mirror', 'light', 'hood', 'window']\n"
     ]
    }
   ],
   "source": [
    "damage=model.names\n",
    "print(damage)\n",
    "dam=[]\n",
    "for i in result:\n",
    "    for j in i.boxes.cls:\n",
    "        print(damage[int(j)])\n",
    "        dam.append(damage[int(j)])\n",
    "print(dam)\n",
    "print(\"===\")\n",
    "par=[]\n",
    "parts=model1.names\n",
    "for i in result1:\n",
    "    for j in i.boxes.cls:\n",
    "        print(parts[int(j)])\n",
    "        par.append(parts[int(j)])\n",
    "        \n",
    "print(par)\n"
   ]
  },
  {
   "cell_type": "code",
   "execution_count": 77,
   "metadata": {},
   "outputs": [
    {
     "name": "stdout",
     "output_type": "stream",
     "text": [
      "tensor([3.])\n"
     ]
    }
   ],
   "source": [
    "from itertools import compress\n",
    "c=result1[0].boxes.xyxy\n",
    "d=result1[0].boxes.cls\n",
    "\n",
    "cord=list(compress(c,d))\n",
    "cord_part=[[int(x) for x in list] for list in cord]#cord_part and d has the corresponding cordinates and their parts\n",
    "\n",
    "\n",
    "#cord_part=[[int(x) for x in lis] for lis in c]\n",
    "\n",
    "if cord_part==[]:\n",
    "    print(\"dob not detected by model\")\n",
    "else:\n",
    "    pass\n",
    "a=result[0].boxes.xyxy\n",
    "b=result[0].boxes.cls\n",
    "print(b)\n",
    "cord_brok=[[int(x) for x in list] for list in a]\n",
    "\n",
    "if cord_brok==[]:\n",
    "    print(\"dob not detected by model\")\n",
    "else:\n",
    "    pass\n",
    "\n"
   ]
  },
  {
   "cell_type": "code",
   "execution_count": 80,
   "metadata": {},
   "outputs": [
    {
     "name": "stdout",
     "output_type": "stream",
     "text": [
      "door\n",
      "tensor([2., 9., 0., 5., 0., 2., 6., 7., 4., 0.])\n",
      "7371\n",
      "52325\n",
      "u: 52325\n",
      "door has a dent\n",
      "IoU: 0.1408695652173913\n"
     ]
    }
   ],
   "source": [
    "def calculate_iou(box1, box2):\n",
    "    \"\"\"\n",
    "    Calculate Intersection over Union (IoU) for two bounding boxes.\n",
    "\n",
    "    Parameters:\n",
    "        box1, box2: Tuple of (x_min, y_min, x_max, y_max), representing the coordinates\n",
    "                    of the top-left (x_min, y_min) and bottom-right (x_max, y_max) corners\n",
    "                    of the bounding box.\n",
    "\n",
    "    Returns:\n",
    "        iou: Intersection over Union value.\n",
    "    \"\"\"\n",
    "    # Calculate the coordinates of the intersection rectangle\n",
    "    x_min_inter = max(box1[0], box2[0])\n",
    "    y_min_inter = max(box1[1], box2[1])\n",
    "    x_max_inter = min(box1[2], box2[2])\n",
    "    y_max_inter = min(box1[3], box2[3])\n",
    "\n",
    "    #If there's no intersection, return 0\n",
    "    if x_min_inter >= x_max_inter or y_min_inter >= y_max_inter:\n",
    "         return 0.0\n",
    "\n",
    "    # Calculate the area of the intersection rectangle\n",
    "    intersection_area = (x_max_inter - x_min_inter) * (y_max_inter - y_min_inter)\n",
    "\n",
    "    # Calculate the area of both bounding boxes\n",
    "    box1_area = (box1[2] - box1[0]) * (box1[3] - box1[1])\n",
    "    print(box1_area)\n",
    "    box2_area = (box2[2] - box2[0]) * (box2[3] - box2[1])\n",
    "    print(box2_area)\n",
    "    # Calculate the area of the union of the two boxes\n",
    "    union_area = box1_area + box2_area - intersection_area\n",
    "    print(\"u:\",union_area)\n",
    "    # Calculate the Intersection over Union\n",
    "    iou = intersection_area / union_area\n",
    "\n",
    "    return iou\n",
    "\n",
    "'''box1 =(p1, q1, p2, q2)   # (x_min, y_min, x_max, y_max)\n",
    "box2 = (x1, y1, x2, y2) # (x_min, y_min, x_max, y_max)\n",
    "\n",
    "print(box1,box2)\n",
    "iou_value=calculate_iou(box1, box2)\n",
    "print(\"IoU:\", iou_value)'''\n",
    "print(parts[2])\n",
    "print(d)\n",
    "for i in range(len(cord_brok)):\n",
    "    for j in range(len(cord_part)):\n",
    "            \n",
    "        p1, q1, p2, q2 = cord_brok[i]\n",
    "\n",
    "        x1, y1, x2, y2 = cord_part[j]\n",
    "        box1 = (p1, q1, p2, q2)  # (x_min, y_min, x_max, y_max)\n",
    "        box2 = (x1, y1, x2, y2)  # (x_min, y_min, x_max, y_max)\n",
    "        \n",
    "        \n",
    "        iou_value = calculate_iou(box1, box2)\n",
    "        # print()\n",
    "        if(iou_value>0.0):\n",
    "            \n",
    "            print(parts[int(d[j])],'has a',damage[int(b[i])])\n",
    "            print(\"IoU:\", iou_value)\n",
    "            \n",
    "\n"
   ]
  }
 ],
 "metadata": {
  "kernelspec": {
   "display_name": "Python 3",
   "language": "python",
   "name": "python3"
  },
  "language_info": {
   "codemirror_mode": {
    "name": "ipython",
    "version": 3
   },
   "file_extension": ".py",
   "mimetype": "text/x-python",
   "name": "python",
   "nbconvert_exporter": "python",
   "pygments_lexer": "ipython3",
   "version": "3.10.11"
  },
  "orig_nbformat": 4
 },
 "nbformat": 4,
 "nbformat_minor": 2
}
